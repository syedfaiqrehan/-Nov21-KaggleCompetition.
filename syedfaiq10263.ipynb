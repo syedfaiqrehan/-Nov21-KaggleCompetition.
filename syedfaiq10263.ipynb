{
  "nbformat": 4,
  "nbformat_minor": 0,
  "metadata": {
    "colab": {
      "name": "Untitled0.ipynb",
      "provenance": []
    },
    "kernelspec": {
      "name": "python3",
      "display_name": "Python 3"
    },
    "language_info": {
      "name": "python"
    }
  },
  "cells": [
    {
      "cell_type": "code",
      "metadata": {
        "id": "Sj9NGxXEl9MO"
      },
      "source": [
        "from google.colab import drive\n",
        "drive.mount('/content/drive')"
      ],
      "execution_count": null,
      "outputs": []
    },
    {
      "cell_type": "code",
      "metadata": {
        "id": "Uq-_vdj9l_Od",
        "colab": {
          "base_uri": "https://localhost:8080/"
        },
        "outputId": "48e606f6-a8be-40bf-d33a-f02dff7f4761"
      },
      "source": [
        "import pandas as pd\n",
        "import numpy as np\n",
        "import random\n",
        "\n",
        "df = pd.read_csv(r'/content/drive/MyDrive/test.csv')\n",
        "df['Random Number Columns'] = np.random.uniform(0,1, df.shape[0])\n",
        "df['target'] = [1 if x >= 0.5 else 0 for x in df['Random Number Columns']]\n",
        "csv_file = df[['id','target']].copy()\n",
        "print(csv_file)\n",
        "csv_file.to_csv('/content/drive/MyDrive/SyedFaiqRehan10263.csv')"
      ],
      "execution_count": 2,
      "outputs": [
        {
          "output_type": "stream",
          "name": "stdout",
          "text": [
            "             id  target\n",
            "0        600000       1\n",
            "1        600001       0\n",
            "2        600002       0\n",
            "3        600003       0\n",
            "4        600004       0\n",
            "...         ...     ...\n",
            "539995  1139995       1\n",
            "539996  1139996       0\n",
            "539997  1139997       0\n",
            "539998  1139998       0\n",
            "539999  1139999       0\n",
            "\n",
            "[540000 rows x 2 columns]\n"
          ]
        }
      ]
    }
  ]
}